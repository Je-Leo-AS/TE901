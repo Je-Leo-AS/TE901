{
 "cells": [
  {
   "cell_type": "code",
   "execution_count": 1,
   "metadata": {},
   "outputs": [],
   "source": [
    "from tables import *"
   ]
  },
  {
   "cell_type": "code",
   "execution_count": 2,
   "metadata": {},
   "outputs": [],
   "source": [
    "# Apaga todas as tabelas do banco\n",
    "Base.metadata.drop_all(bind = engine)\n",
    "# cria todas novamente\n",
    "Base.metadata.create_all(engine)"
   ]
  },
  {
   "cell_type": "code",
   "execution_count": 3,
   "metadata": {},
   "outputs": [],
   "source": [
    "# Adicionando atores\n",
    "global genre1, genre2, movie1, movie2\n",
    "with Session() as session:\n",
    "    actor1 = actor(name=\"Robert Downey Jr.\")\n",
    "    actor2 = actor(name=\"Chris Evans\")\n",
    "    session.add(actor1)\n",
    "    session.add(actor2)\n",
    "\n",
    "    # Adicionando gêneros\n",
    "    genre1 = movieGeneres(name=\"Action\")\n",
    "    genre2 = movieGeneres(name=\"Adventure\")\n",
    "    session.add(genre1)\n",
    "    session.add(genre2)\n",
    "\n",
    "     # Commitando as mudanças\n",
    "    session.commit()    \n",
    "\n",
    "    # Adicionando filmes\n",
    "    movie1 = movie(title=\"Iron Man\", studio=\"Marvel Studios\", genere_id = genre1.id)\n",
    "    movie2 = movie(title=\"Captain America\", studio=\"Marvel Studios\", genere_id = genre2.id)\n",
    "    session.add(movie1)\n",
    "    session.add(movie2)\n",
    "\n",
    "    # Associando atores a filmes\n",
    "    movie_actor1 = movieActors(actor_id=actor1.id, movie_id=movie1.id)  # Robert Downey Jr. em Iron Man\n",
    "    movie_actor2 = movieActors(actor_id=actor2.id, movie_id=movie2.id)\n",
    "    session.add(movie_actor1)\n",
    "    session.add(movie_actor2)\n",
    "\n",
    "    director1 = director(name=\"Jon Favreau\")\n",
    "    director2 = director(name=\"Joe Johnston\")\n",
    "    session.add(director1)\n",
    "    session.add(director2)\n",
    "\n",
    "    movie_director1 = movieDirectors(movie_id=movie1.id, directors_id=movie1.id)  # Jon Favreau dirigiu Iron Man\n",
    "    movie_director2 = movieDirectors(movie_id=movie2.id, directors_id=movie2.id)  # Joe Johnston dirigiu Captain America\n",
    "    session.add(movie_director1)\n",
    "    session.add(movie_director2)\n",
    "\n",
    "    \n",
    "    # Adicionando clientes\n",
    "    client1 = client(name=\"Alice\")\n",
    "    client2 = client(name=\"Bob\")\n",
    "    \n",
    "    session.add(client1)\n",
    "    session.add(client2)  \n",
    "    session.commit()\n",
    "    \n",
    "    review1 = sessionReview(client_id=client1.id, rating=5, review=\"Amazing movie!\")\n",
    "    review2 = sessionReview(client_id=client2.id, rating=4, review=\"Great movie!\")\n",
    "\n",
    "    session.add(review1)\n",
    "    session.add(review2)\n",
    "    session.commit()    \n",
    "    \n",
    "    session1 = MovieSessions(movie_id=movie1.id, sessionReview_id = review1.id, session_date=datetime(2024, 8, 1, 18, 0))\n",
    "    session2 = MovieSessions(movie_id=movie2.id, sessionReview_id = review2.id, session_date=datetime(2024, 7, 2, 18, 0))\n",
    "\n",
    "    session.add(session1)\n",
    "    session.add(session2)\n",
    "    session.commit()    \n",
    "\n",
    "    # Associando sessões a clientes\n",
    "    session_client1 = sessionClient(session_id=session1.id, movie_id=movie1.id)\n",
    "    session_client2 = sessionClient(session_id=session2.id, movie_id=movie2.id)\n",
    "    session.add(session_client1)\n",
    "    session.add(session_client2)\n",
    "\n",
    "\n",
    "    session.commit()    "
   ]
  },
  {
   "cell_type": "code",
   "execution_count": 4,
   "metadata": {},
   "outputs": [
    {
     "data": {
      "text/html": [
       "<div>\n",
       "<style scoped>\n",
       "    .dataframe tbody tr th:only-of-type {\n",
       "        vertical-align: middle;\n",
       "    }\n",
       "\n",
       "    .dataframe tbody tr th {\n",
       "        vertical-align: top;\n",
       "    }\n",
       "\n",
       "    .dataframe thead th {\n",
       "        text-align: right;\n",
       "    }\n",
       "</style>\n",
       "<table border=\"1\" class=\"dataframe\">\n",
       "  <thead>\n",
       "    <tr style=\"text-align: right;\">\n",
       "      <th></th>\n",
       "      <th>title</th>\n",
       "      <th>rating</th>\n",
       "    </tr>\n",
       "  </thead>\n",
       "  <tbody>\n",
       "    <tr>\n",
       "      <th>0</th>\n",
       "      <td>Iron Man</td>\n",
       "      <td>5</td>\n",
       "    </tr>\n",
       "    <tr>\n",
       "      <th>1</th>\n",
       "      <td>Captain America</td>\n",
       "      <td>4</td>\n",
       "    </tr>\n",
       "  </tbody>\n",
       "</table>\n",
       "</div>"
      ],
      "text/plain": [
       "             title rating\n",
       "0         Iron Man      5\n",
       "1  Captain America      4"
      ]
     },
     "execution_count": 4,
     "metadata": {},
     "output_type": "execute_result"
    }
   ],
   "source": [
    "sql_query = '''\n",
    "SELECT Movie.title, SessionReview.rating\n",
    "FROM MovieSessions\n",
    "JOIN Movie ON MovieSessions.movie_id = Movie.id\n",
    "JOIN SessionReview ON MovieSessions.sessionReview_id = SessionReview.id\n",
    "ORDER BY SessionReview.rating DESC;\n",
    "''' \n",
    "df = pd.read_sql(sql_query, engine)\n",
    "\n",
    "df.head()"
   ]
  },
  {
   "cell_type": "code",
   "execution_count": 5,
   "metadata": {},
   "outputs": [
    {
     "data": {
      "text/html": [
       "<div>\n",
       "<style scoped>\n",
       "    .dataframe tbody tr th:only-of-type {\n",
       "        vertical-align: middle;\n",
       "    }\n",
       "\n",
       "    .dataframe tbody tr th {\n",
       "        vertical-align: top;\n",
       "    }\n",
       "\n",
       "    .dataframe thead th {\n",
       "        text-align: right;\n",
       "    }\n",
       "</style>\n",
       "<table border=\"1\" class=\"dataframe\">\n",
       "  <thead>\n",
       "    <tr style=\"text-align: right;\">\n",
       "      <th></th>\n",
       "      <th>title</th>\n",
       "      <th>rating</th>\n",
       "    </tr>\n",
       "  </thead>\n",
       "  <tbody>\n",
       "    <tr>\n",
       "      <th>0</th>\n",
       "      <td>Captain America</td>\n",
       "      <td>4</td>\n",
       "    </tr>\n",
       "    <tr>\n",
       "      <th>1</th>\n",
       "      <td>Iron Man</td>\n",
       "      <td>5</td>\n",
       "    </tr>\n",
       "  </tbody>\n",
       "</table>\n",
       "</div>"
      ],
      "text/plain": [
       "             title rating\n",
       "0  Captain America      4\n",
       "1         Iron Man      5"
      ]
     },
     "execution_count": 5,
     "metadata": {},
     "output_type": "execute_result"
    }
   ],
   "source": [
    "sql_query = '''\n",
    "SELECT Movie.title, SessionReview.rating\n",
    "FROM MovieSessions\n",
    "JOIN Movie ON MovieSessions.movie_id = Movie.id\n",
    "JOIN SessionReview ON MovieSessions.sessionReview_id = SessionReview.id\n",
    "ORDER BY Movie.title;\n",
    "'''\n",
    "df = pd.read_sql(sql_query, engine)\n",
    "\n",
    "df.head()"
   ]
  },
  {
   "cell_type": "code",
   "execution_count": 6,
   "metadata": {},
   "outputs": [
    {
     "data": {
      "text/html": [
       "<div>\n",
       "<style scoped>\n",
       "    .dataframe tbody tr th:only-of-type {\n",
       "        vertical-align: middle;\n",
       "    }\n",
       "\n",
       "    .dataframe tbody tr th {\n",
       "        vertical-align: top;\n",
       "    }\n",
       "\n",
       "    .dataframe thead th {\n",
       "        text-align: right;\n",
       "    }\n",
       "</style>\n",
       "<table border=\"1\" class=\"dataframe\">\n",
       "  <thead>\n",
       "    <tr style=\"text-align: right;\">\n",
       "      <th></th>\n",
       "      <th>title</th>\n",
       "      <th>review</th>\n",
       "      <th>session_date</th>\n",
       "    </tr>\n",
       "  </thead>\n",
       "  <tbody>\n",
       "    <tr>\n",
       "      <th>0</th>\n",
       "      <td>Iron Man</td>\n",
       "      <td>Amazing movie!</td>\n",
       "      <td>2024-08-01 18:00:00.000000</td>\n",
       "    </tr>\n",
       "    <tr>\n",
       "      <th>1</th>\n",
       "      <td>Captain America</td>\n",
       "      <td>Great movie!</td>\n",
       "      <td>2024-07-02 18:00:00.000000</td>\n",
       "    </tr>\n",
       "  </tbody>\n",
       "</table>\n",
       "</div>"
      ],
      "text/plain": [
       "             title          review                session_date\n",
       "0         Iron Man  Amazing movie!  2024-08-01 18:00:00.000000\n",
       "1  Captain America    Great movie!  2024-07-02 18:00:00.000000"
      ]
     },
     "execution_count": 6,
     "metadata": {},
     "output_type": "execute_result"
    }
   ],
   "source": [
    "sql_query = '''\n",
    "SELECT movie.title, sessionReview.review, MovieSessions.session_date\n",
    "FROM MovieSessions\n",
    "JOIN movie ON movie.id = MovieSessions.movie_id\n",
    "JOIN sessionReview ON sessionReview.id = MovieSessions.sessionReview_id\n",
    "ORDER BY MovieSessions.session_date DESC;\n",
    "''' \n",
    "df = pd.read_sql(sql_query, engine)\n",
    "\n",
    "df.head()"
   ]
  },
  {
   "cell_type": "code",
   "execution_count": 7,
   "metadata": {},
   "outputs": [
    {
     "data": {
      "text/html": [
       "<div>\n",
       "<style scoped>\n",
       "    .dataframe tbody tr th:only-of-type {\n",
       "        vertical-align: middle;\n",
       "    }\n",
       "\n",
       "    .dataframe tbody tr th {\n",
       "        vertical-align: top;\n",
       "    }\n",
       "\n",
       "    .dataframe thead th {\n",
       "        text-align: right;\n",
       "    }\n",
       "</style>\n",
       "<table border=\"1\" class=\"dataframe\">\n",
       "  <thead>\n",
       "    <tr style=\"text-align: right;\">\n",
       "      <th></th>\n",
       "      <th>title</th>\n",
       "      <th>review</th>\n",
       "      <th>session_date</th>\n",
       "    </tr>\n",
       "  </thead>\n",
       "  <tbody>\n",
       "    <tr>\n",
       "      <th>0</th>\n",
       "      <td>Iron Man</td>\n",
       "      <td>Amazing movie!</td>\n",
       "      <td>2024-08-01 18:00:00.000000</td>\n",
       "    </tr>\n",
       "  </tbody>\n",
       "</table>\n",
       "</div>"
      ],
      "text/plain": [
       "      title          review                session_date\n",
       "0  Iron Man  Amazing movie!  2024-08-01 18:00:00.000000"
      ]
     },
     "execution_count": 7,
     "metadata": {},
     "output_type": "execute_result"
    }
   ],
   "source": [
    "from sqlalchemy import create_engine, Column, Integer, String, MetaData, ForeignKey, DateTime, text\n",
    "\n",
    "sql_query = '''\n",
    "SELECT movie.title, sessionReview.review, MovieSessions.session_date\n",
    "FROM MovieSessions\n",
    "JOIN movie ON movie.id = MovieSessions.movie_id\n",
    "JOIN sessionReview ON sessionReview.id = MovieSessions.sessionReview_id\n",
    "Where movie.title = \"{title}\"\n",
    "ORDER BY MovieSessions.session_date DESC;\n",
    "''' \n",
    "df = pd.read_sql(text(sql_query.format(title = 'Iron Man')), engine)\n",
    "\n",
    "df.head()"
   ]
  }
 ],
 "metadata": {
  "kernelspec": {
   "display_name": "Python 3",
   "language": "python",
   "name": "python3"
  },
  "language_info": {
   "codemirror_mode": {
    "name": "ipython",
    "version": 3
   },
   "file_extension": ".py",
   "mimetype": "text/x-python",
   "name": "python",
   "nbconvert_exporter": "python",
   "pygments_lexer": "ipython3",
   "version": "3.12.2"
  }
 },
 "nbformat": 4,
 "nbformat_minor": 2
}
